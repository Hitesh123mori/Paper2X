{
 "cells": [
  {
   "cell_type": "code",
   "execution_count": 2,
   "metadata": {},
   "outputs": [
    {
     "data": {
      "text/plain": [
       "False"
      ]
     },
     "execution_count": 2,
     "metadata": {},
     "output_type": "execute_result"
    }
   ],
   "source": [
    "from langchain_ollama import ChatOllama # type: ignore\n",
    "from langchain_groq import ChatGroq # type: ignore\n",
    "from langchain.prompts import ChatPromptTemplate # type: ignore\n",
    "from typing import List, Dict, Any\n",
    "from typing_extensions import TypedDict # type: ignore\n",
    "from langchain_core.output_parsers import StrOutputParser # type: ignore\n",
    "from langgraph.graph import StateGraph, START, END # type: ignore\n",
    "from IPython.display import Image, display # type: ignore\n",
    "from langchain_core.messages import AIMessage, HumanMessage, SystemMessage # type: ignore\n",
    "from langchain_core.output_parsers import PydanticOutputParser # type: ignore\n",
    "import os\n",
    "from dotenv import load_dotenv # type: ignore\n",
    "# from langchain.document_loaders import PyMuPDFLoader\n",
    "from typing import List, Dict, Any, Optional\n",
    "import fitz # type: ignore\n",
    "from pydantic import BaseModel, Field # type: ignore\n",
    "load_dotenv()"
   ]
  },
  {
   "cell_type": "code",
   "execution_count": 3,
   "metadata": {},
   "outputs": [],
   "source": [
    "os.environ[\"LANGSMITH_PROJECT\"] = f\"MineD 2025\"\n",
    "llm = ChatGroq(model=\"mixtral-8x7b-32768\", api_key=\"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\")"
   ]
  },
  {
   "cell_type": "code",
   "execution_count": 8,
   "metadata": {},
   "outputs": [],
   "source": [
    "#base model to hold the metadata, and slide summaries that the llm will extract\n",
    "class ResPaperText(BaseModel):\n",
    "    text: str = Field(..., description=\"Your response\")"
   ]
  },
  {
   "cell_type": "code",
   "execution_count": 28,
   "metadata": {},
   "outputs": [],
   "source": [
    "instruction = \"\"\" \n",
    "You are supposed to store and recover information when asked: {extracted_text}\n",
    "\"\"\"\n",
    "\n",
    "\n",
    "parser = PydanticOutputParser(pydantic_object=ResPaperText)\n",
    "\n",
    "store_template = ChatPromptTemplate(\n",
    "   messages=[(\"system\", instruction),\n",
    "   (\"human\", \"Store this information. \")],\n",
    "   input_variables=[\"extracted_text\"],\n",
    "   partial_variables={\"format_instructions\": parser.get_format_instructions()},\n",
    ")\n",
    "\n",
    "recall_template = ChatPromptTemplate(\n",
    "   messages=[(\"system\", instruction),\n",
    "   (\"human\", \"Recall the information. \")],\n",
    "   input_variables=[\"extracted_text\"],\n",
    "   partial_variables={\"format_instructions\": parser.get_format_instructions()},\n",
    ")\n",
    "\n",
    "structured_llm = llm.with_structured_output(ResPaperText, include_raw=True)\n",
    "prompt1 = store_template.format(extracted_text=\"I am Mihir\")\n",
    "prompt2 = store_template.format(extracted_text=\"Who am I ?\")\n",
    "response1 = structured_llm.invoke(prompt1)\n",
    "response2 = structured_llm.invoke(prompt2)"
   ]
  },
  {
   "cell_type": "code",
   "execution_count": 29,
   "metadata": {},
   "outputs": [
    {
     "name": "stdout",
     "output_type": "stream",
     "text": [
      "content='' additional_kwargs={'tool_calls': [{'id': 'call_6bgy', 'function': {'arguments': '{\"text\":\"The user is supposed to store and recover information when asked: Who am I ?\"}', 'name': 'ResPaperText'}, 'type': 'function'}]} response_metadata={'token_usage': {'completion_tokens': 105, 'prompt_tokens': 1082, 'total_tokens': 1187, 'completion_time': 0.161587526, 'prompt_time': 0.057210711, 'queue_time': 0.018293255000000008, 'total_time': 0.218798237}, 'model_name': 'mixtral-8x7b-32768', 'system_fingerprint': 'fp_c5f20b5bb1', 'finish_reason': 'tool_calls', 'logprobs': None} id='run-2c8af391-cf71-45d2-a7a3-9dcbf816c043-0' tool_calls=[{'name': 'ResPaperText', 'args': {'text': 'The user is supposed to store and recover information when asked: Who am I ?'}, 'id': 'call_6bgy', 'type': 'tool_call'}] usage_metadata={'input_tokens': 1082, 'output_tokens': 105, 'total_tokens': 1187}\n"
     ]
    }
   ],
   "source": [
    "print(response2[\"raw\"])"
   ]
  },
  {
   "cell_type": "code",
   "execution_count": null,
   "metadata": {},
   "outputs": [],
   "source": []
  }
 ],
 "metadata": {
  "kernelspec": {
   "display_name": "mined_2025-9loJUqGE",
   "language": "python",
   "name": "python3"
  },
  "language_info": {
   "codemirror_mode": {
    "name": "ipython",
    "version": 3
   },
   "file_extension": ".py",
   "mimetype": "text/x-python",
   "name": "python",
   "nbconvert_exporter": "python",
   "pygments_lexer": "ipython3",
   "version": "3.12.8"
  }
 },
 "nbformat": 4,
 "nbformat_minor": 2
}
